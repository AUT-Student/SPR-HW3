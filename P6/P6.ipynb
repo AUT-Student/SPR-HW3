{
 "cells": [
  {
   "cell_type": "markdown",
   "id": "neural-holocaust",
   "metadata": {},
   "source": [
    "<center><b>In the name of God</b></center>\n",
    "\n",
    "<b>Course</b>: Statistical Pattern Recognition\n",
    "<br>\n",
    "<b>Description:</b> HomeWork 3 | Question 6\n",
    "<br>\n",
    "<b>Developer</b>: Alireza Mazochi (400131075)"
   ]
  },
  {
   "cell_type": "markdown",
   "id": "green-security",
   "metadata": {},
   "source": [
    "# Libraries"
   ]
  },
  {
   "cell_type": "code",
   "execution_count": 5,
   "id": "diverse-diary",
   "metadata": {},
   "outputs": [],
   "source": [
    "import numpy as np\n",
    "import matplotlib.pyplot as plt\n",
    "from PIL import Image\n",
    "import glob"
   ]
  },
  {
   "cell_type": "markdown",
   "id": "authentic-beads",
   "metadata": {},
   "source": [
    "# a"
   ]
  },
  {
   "cell_type": "code",
   "execution_count": 21,
   "id": "italian-highway",
   "metadata": {},
   "outputs": [],
   "source": [
    "def load_img_data(path):\n",
    "    \"\"\" Load an image and convert it to its data\"\"\"\n",
    "    img = Image.open(path).convert(\"L\")\n",
    "    img.load()\n",
    "    data = np.asarray(img, dtype=\"int32\" ).ravel()\n",
    "    return data"
   ]
  },
  {
   "cell_type": "code",
   "execution_count": 35,
   "id": "undefined-conversation",
   "metadata": {},
   "outputs": [],
   "source": [
    "def load_trainset():\n",
    "    data_img_list = []\n",
    "    for path in glob.glob(f\"./LFW/train/*.jpg\"):\n",
    "        data_img_list.append(load_img_data(path))\n",
    "    return np.row_stack(data_img_list)"
   ]
  },
  {
   "cell_type": "code",
   "execution_count": 36,
   "id": "exposed-consistency",
   "metadata": {},
   "outputs": [],
   "source": [
    "trainset = load_trainset()"
   ]
  },
  {
   "cell_type": "code",
   "execution_count": 37,
   "id": "automotive-adaptation",
   "metadata": {},
   "outputs": [
    {
     "data": {
      "text/plain": [
       "(821, 4800)"
      ]
     },
     "execution_count": 37,
     "metadata": {},
     "output_type": "execute_result"
    }
   ],
   "source": [
    "trainset.shape"
   ]
  },
  {
   "cell_type": "code",
   "execution_count": 69,
   "id": "arctic-mounting",
   "metadata": {},
   "outputs": [],
   "source": [
    "def eigenfaces_train(trainset, v):\n",
    "    trainset_mean = trainset.mean(axis=0)\n",
    "    trainset_normal = trainset - trainset_mean\n",
    "    trainset_cov = np.cov(trainset_normal.T)\n",
    "    \n",
    "    e_values, e_vectors = np.linalg.eig(trainset_cov)\n",
    "\n",
    "    idx = e_values.argsort()[::-1]   \n",
    "    e_values = e_values[idx]\n",
    "    e_vectors = e_vectors[:,idx]\n",
    "    \n",
    "    return e_vectors[:, :v].T, trainset_mean[:v]"
   ]
  },
  {
   "cell_type": "code",
   "execution_count": 70,
   "id": "solved-thailand",
   "metadata": {},
   "outputs": [],
   "source": [
    "w, mu = eigenfaces_train(trainset, 50)"
   ]
  },
  {
   "cell_type": "code",
   "execution_count": 71,
   "id": "attractive-booking",
   "metadata": {},
   "outputs": [
    {
     "data": {
      "text/plain": [
       "(50, 4800)"
      ]
     },
     "execution_count": 71,
     "metadata": {},
     "output_type": "execute_result"
    }
   ],
   "source": [
    "w.shape"
   ]
  },
  {
   "cell_type": "code",
   "execution_count": 72,
   "id": "accepted-swing",
   "metadata": {},
   "outputs": [
    {
     "data": {
      "text/plain": [
       "(50,)"
      ]
     },
     "execution_count": 72,
     "metadata": {},
     "output_type": "execute_result"
    }
   ],
   "source": [
    "mu.shape"
   ]
  },
  {
   "cell_type": "markdown",
   "id": "silver-bathroom",
   "metadata": {},
   "source": [
    "# b"
   ]
  },
  {
   "cell_type": "code",
   "execution_count": null,
   "id": "hearing-polyester",
   "metadata": {},
   "outputs": [],
   "source": []
  }
 ],
 "metadata": {
  "kernelspec": {
   "display_name": "Python 3",
   "language": "python",
   "name": "python3"
  },
  "language_info": {
   "codemirror_mode": {
    "name": "ipython",
    "version": 3
   },
   "file_extension": ".py",
   "mimetype": "text/x-python",
   "name": "python",
   "nbconvert_exporter": "python",
   "pygments_lexer": "ipython3",
   "version": "3.9.1"
  }
 },
 "nbformat": 4,
 "nbformat_minor": 5
}
