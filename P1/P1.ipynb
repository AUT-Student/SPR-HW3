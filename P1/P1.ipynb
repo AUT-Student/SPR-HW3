{
 "cells": [
  {
   "cell_type": "code",
   "execution_count": 4,
   "id": "facial-suicide",
   "metadata": {},
   "outputs": [],
   "source": [
    "import matplotlib.pyplot as plt"
   ]
  },
  {
   "cell_type": "code",
   "execution_count": 18,
   "id": "powerful-wireless",
   "metadata": {},
   "outputs": [],
   "source": [
    "D = [0, 1, 1, 1, 1, 1, 2, 2, 3, 3, 3, 4, 5, 5, 5]"
   ]
  },
  {
   "cell_type": "code",
   "execution_count": 28,
   "id": "studied-crawford",
   "metadata": {},
   "outputs": [
    {
     "data": {
      "text/plain": [
       "15"
      ]
     },
     "execution_count": 28,
     "metadata": {},
     "output_type": "execute_result"
    }
   ],
   "source": [
    "len(D)"
   ]
  },
  {
   "cell_type": "code",
   "execution_count": 27,
   "id": "uniform-parade",
   "metadata": {},
   "outputs": [
    {
     "data": {
      "text/plain": [
       "(array([1., 5., 2., 3., 1., 3.]),\n",
       " array([0, 1, 2, 3, 4, 5, 6]),\n",
       " <BarContainer object of 6 artists>)"
      ]
     },
     "execution_count": 27,
     "metadata": {},
     "output_type": "execute_result"
    },
    {
     "data": {
      "image/png": "[encoded data removed]",
      "text/plain": [
       "<Figure size 432x288 with 1 Axes>"
      ]
     },
     "metadata": {
      "needs_background": "light"
     },
     "output_type": "display_data"
    }
   ],
   "source": [
    "plt.title(\"The histogram of the data\")\n",
    "plt.xlabel(\"Data\")\n",
    "plt.ylabel(\"Frequency\")\n",
    "\n",
    "plt.hist(D, bins=range(7), align=\"left\", rwidth=1, ec='black', color=\"red\")\n"
   ]
  },
  {
   "cell_type": "code",
   "execution_count": 30,
   "id": "tracked-pharmaceutical",
   "metadata": {},
   "outputs": [],
   "source": [
    "import numpy as np\n",
    "a = np.array([[-5.4,-3.4,-2.4,-0.4,0.6,1.6,1.6,1.6,2.6,3.6],[-4.6,-0.6,-1.6,2.4,-3.6,3.4,-2.6,5.4,0.4,1.4],[-2.7,0.3,1.3,-2.7,-0.7,4.3,-1.7,-3.7,2.3,3.3]])"
   ]
  },
  {
   "cell_type": "code",
   "execution_count": 33,
   "id": "advisory-investing",
   "metadata": {},
   "outputs": [
    {
     "data": {
      "text/plain": [
       "array([[ 8.26666667,  4.84444444,  3.02222222],\n",
       "       [ 4.84444444, 10.26666667,  1.2       ],\n",
       "       [ 3.02222222,  1.2       ,  7.56666667]])"
      ]
     },
     "execution_count": 33,
     "metadata": {},
     "output_type": "execute_result"
    }
   ],
   "source": [
    "np.cov(a)"
   ]
  },
  {
   "cell_type": "code",
   "execution_count": 35,
   "id": "closed-scholarship",
   "metadata": {},
   "outputs": [],
   "source": [
    "import math\n",
    "def g(x):\n",
    "    return 1/math.sqrt(2*math.pi)*math.exp(-pow(x,2)/2)"
   ]
  },
  {
   "cell_type": "code",
   "execution_count": 50,
   "id": "future-while",
   "metadata": {},
   "outputs": [
    {
     "data": {
      "text/plain": [
       "0.04855002037465099"
      ]
     },
     "execution_count": 50,
     "metadata": {},
     "output_type": "execute_result"
    }
   ],
   "source": [
    "1/(15*4) * (g(-1/4)+g(0)+3*g(1/4)+2*g(2/4)+g(5/4)+g(9/4)+g(10/4)+3*g(11/4)+2*g(13/4))"
   ]
  },
  {
   "cell_type": "code",
   "execution_count": 37,
   "id": "posted-running",
   "metadata": {},
   "outputs": [
    {
     "data": {
      "text/plain": [
       "0.24197072451914337"
      ]
     },
     "execution_count": 37,
     "metadata": {},
     "output_type": "execute_result"
    }
   ],
   "source": [
    "g(1)"
   ]
  },
  {
   "cell_type": "code",
   "execution_count": 41,
   "id": "welcome-heath",
   "metadata": {},
   "outputs": [
    {
     "data": {
      "text/plain": [
       "0.09832057321492647"
      ]
     },
     "execution_count": 41,
     "metadata": {},
     "output_type": "execute_result"
    }
   ],
   "source": [
    "1/15*g(-1)+1/15*g(0)+3/15*g(1)+2/15*g(2)+1/15*g(5)+1/15*g(9)+1/15*g(10)+3/15*g(11)+2/15*g(13)"
   ]
  },
  {
   "cell_type": "code",
   "execution_count": 42,
   "id": "macro-occasion",
   "metadata": {},
   "outputs": [
    {
     "data": {
      "text/plain": [
       "0.016454199335250098"
      ]
     },
     "execution_count": 42,
     "metadata": {},
     "output_type": "execute_result"
    }
   ],
   "source": [
    "1/15*g(-7)+1/15*g(-6)+3/15*g(-5)+2/15*g(-4)+1/15*g(-1)+1/15*g(3)+1/15*g(4)+3/15*g(5)+2/15*g(7)"
   ]
  },
  {
   "cell_type": "code",
   "execution_count": 43,
   "id": "continent-roots",
   "metadata": {},
   "outputs": [
    {
     "data": {
      "text/plain": [
       "0.0845517625019985"
      ]
     },
     "execution_count": 43,
     "metadata": {},
     "output_type": "execute_result"
    }
   ],
   "source": [
    "1/15*g(-13)+1/15*g(-12)+3/15*g(-11)+2/15*g(-10)+1/15*g(-7)+1/15*g(-3)+1/15*g(-2)+3/15*g(-1)+2/15*g(1)"
   ]
  },
  {
   "cell_type": "code",
   "execution_count": 48,
   "id": "strong-bottle",
   "metadata": {},
   "outputs": [
    {
     "data": {
      "text/plain": [
       "0.04569364744535016"
      ]
     },
     "execution_count": 48,
     "metadata": {},
     "output_type": "execute_result"
    }
   ],
   "source": [
    "1/(15*4) * (g(-13/4)+g(-12/4)+3*g(-11/4)+2*g(-10/4)+g(-7/4)+g(-3/4)+g(-2/4)+3*g(-1/4)+2*g(1/4))"
   ]
  },
  {
   "cell_type": "code",
   "execution_count": 46,
   "id": "global-carol",
   "metadata": {},
   "outputs": [
    {
     "data": {
      "text/plain": [
       "0.04855002037465099"
      ]
     },
     "execution_count": 46,
     "metadata": {},
     "output_type": "execute_result"
    }
   ],
   "source": [
    "2.9130012224790596/60"
   ]
  },
  {
   "cell_type": "code",
   "execution_count": 51,
   "id": "supposed-premium",
   "metadata": {},
   "outputs": [
    {
     "name": "stdout",
     "output_type": "stream",
     "text": [
      "0.04855002037465099\n"
     ]
    }
   ],
   "source": [
    "import math\n",
    "def g(x):\n",
    "    return 1/math.sqrt(2*math.pi)*math.exp(-pow(x,2)/2)\n",
    "\n",
    "print(1/(15*4) * (g(-1/4)+g(0)+3*g(1/4)+2*g(2/4)+g(5/4)+g(9/4)+g(10/4)+3*g(11/4)+2*g(13/4)))"
   ]
  },
  {
   "cell_type": "code",
   "execution_count": 60,
   "id": "passing-generic",
   "metadata": {},
   "outputs": [
    {
     "data": {
      "text/plain": [
       "array([ 0.76741654, -0.47579826, -0.42975326])"
      ]
     },
     "execution_count": 60,
     "metadata": {},
     "output_type": "execute_result"
    }
   ],
   "source": [
    "import numpy as np\n",
    "a = np.array([1,-0.62,-0.56])\n",
    "a/np.linalg.norm(a)"
   ]
  },
  {
   "cell_type": "code",
   "execution_count": 61,
   "id": "trained-milwaukee",
   "metadata": {},
   "outputs": [],
   "source": [
    "a = np.array([[0.63, 0.68, 0.35], [0.13, -0.54, 0.82], [0.76, -0.47, -0.42]])\n",
    "b = np.array([[-5.4, -3.4, -2.4, -0.4, 0.6, 1.6, 1.6, 1.6, 2.6, 3.6],\n",
    "              [-4.6, -0.6, -1.6, 2.4, -3.6, 3.4, -2.6, 5.4, 0.4, 1.4],\n",
    "              [-2.7, 0.3, 1.3, -2.7, -0.7, 4.3, -1.7, -3.7, 2.3, 3.3]])"
   ]
  },
  {
   "cell_type": "code",
   "execution_count": 62,
   "id": "fifth-factory",
   "metadata": {},
   "outputs": [
    {
     "data": {
      "text/plain": [
       "array([[-7.475, -2.445, -2.145,  0.435, -2.315,  4.825, -1.355,  3.385,\n",
       "         2.715,  4.375],\n",
       "       [-0.432,  0.128,  1.618, -3.562,  1.448,  1.898,  0.218, -5.742,\n",
       "         2.008,  2.418],\n",
       "       [-0.808, -2.428, -1.618, -0.298,  2.442, -2.188,  3.152,  0.232,\n",
       "         0.822,  0.692]])"
      ]
     },
     "execution_count": 62,
     "metadata": {},
     "output_type": "execute_result"
    }
   ],
   "source": [
    "a@b"
   ]
  },
  {
   "cell_type": "code",
   "execution_count": 63,
   "id": "reserved-newark",
   "metadata": {},
   "outputs": [
    {
     "data": {
      "text/plain": [
       "array([[10.32222222,  3.35555556, -4.33333333],\n",
       "       [ 3.35555556,  3.06666667, -2.77777778],\n",
       "       [-4.33333333, -2.77777778,  8.66666667]])"
      ]
     },
     "execution_count": 63,
     "metadata": {},
     "output_type": "execute_result"
    }
   ],
   "source": [
    "np.cov([[0, 2, 2, 3, 4, 5, 7, 8, 9, 9],\n",
    "        [3, 1, 2, 1, 4, 5, 2, 3, 5, 6],\n",
    "        [7, 6, 10, 8, 2, 0, 4, 3, 5, 5]])"
   ]
  },
  {
   "cell_type": "code",
   "execution_count": 64,
   "id": "hazardous-profit",
   "metadata": {},
   "outputs": [
    {
     "data": {
      "text/plain": [
       "array([[ 7.11111111,  1.66666667,  1.88888889],\n",
       "       [ 1.66666667,  1.87777778,  1.24444444],\n",
       "       [ 1.88888889,  1.24444444, 12.84444444]])"
      ]
     },
     "execution_count": 64,
     "metadata": {},
     "output_type": "execute_result"
    }
   ],
   "source": [
    "np.cov([[2, 3, 5, 5, 5, 6, 6, 8, 10, 10],\n",
    "       [7, 8, 6, 9, 10, 7, 7, 8, 10, 9],\n",
    "       [1, 9, 0, 3, 5, 2, 9, 10, 6, 3]])"
   ]
  },
  {
   "cell_type": "code",
   "execution_count": 4,
   "id": "interim-mountain",
   "metadata": {},
   "outputs": [
    {
     "data": {
      "text/plain": [
       "array([[ 0.00903299, -0.00906022,  0.00038459],\n",
       "       [-0.00906022,  0.03213426,  0.00125432],\n",
       "       [ 0.00038459,  0.00125432,  0.00530105]])"
      ]
     },
     "execution_count": 4,
     "metadata": {},
     "output_type": "execute_result"
    }
   ],
   "source": [
    "import numpy as np\n",
    "np.linalg.inv([[156.87, 45.09, -22.05], [45.09, 44.37, -13.77],[-22.05, -13.77, 193.5]])"
   ]
  },
  {
   "cell_type": "code",
   "execution_count": 6,
   "id": "ruled-machine",
   "metadata": {},
   "outputs": [],
   "source": [
    "a = np.linalg.inv([[156.87, 45.09, -22.05], [45.09, 44.37, -13.77],[-22.05, -13.77, 193.5]])@np.array([[1.21, 5.39, -0.22],[5.39, 24.01, -0.98],[-0.22, -0.98, 0.04]])"
   ]
  },
  {
   "cell_type": "code",
   "execution_count": 8,
   "id": "tropical-chemical",
   "metadata": {},
   "outputs": [],
   "source": [
    "w, v = np.linalg.eig(a)"
   ]
  },
  {
   "cell_type": "code",
   "execution_count": 13,
   "id": "suitable-castle",
   "metadata": {},
   "outputs": [
    {
     "data": {
      "text/plain": [
       "(array([ 6.82388730e-01, -1.38803741e-19, -3.32536545e-17]),\n",
       " array([[ 0.22820374,  0.16787007, -0.9749633 ],\n",
       "        [-0.97293264,  0.00255185,  0.220148  ],\n",
       "        [-0.03640226,  0.98580583,  0.03132778]]))"
      ]
     },
     "execution_count": 13,
     "metadata": {},
     "output_type": "execute_result"
    }
   ],
   "source": [
    "w, v"
   ]
  },
  {
   "cell_type": "code",
   "execution_count": 9,
   "id": "steady-trout",
   "metadata": {},
   "outputs": [
    {
     "data": {
      "text/plain": [
       "(0.6823887297779745, array([ 0.22820374, -0.97293264, -0.03640226]))"
      ]
     },
     "execution_count": 9,
     "metadata": {},
     "output_type": "execute_result"
    }
   ],
   "source": [
    "w[0], v[:, 0]"
   ]
  },
  {
   "cell_type": "code",
   "execution_count": 11,
   "id": "hollow-headline",
   "metadata": {},
   "outputs": [
    {
     "data": {
      "text/plain": [
       "(-1.3880374067816057e-19, array([0.16787007, 0.00255185, 0.98580583]))"
      ]
     },
     "execution_count": 11,
     "metadata": {},
     "output_type": "execute_result"
    }
   ],
   "source": [
    "w[1], v[:, 1]"
   ]
  },
  {
   "cell_type": "code",
   "execution_count": 12,
   "id": "static-interest",
   "metadata": {},
   "outputs": [
    {
     "data": {
      "text/plain": [
       "(-3.3253654548229503e-17, array([-0.9749633 ,  0.220148  ,  0.03132778]))"
      ]
     },
     "execution_count": 12,
     "metadata": {},
     "output_type": "execute_result"
    }
   ],
   "source": [
    "4w[2], v[:, 2]"
   ]
  },
  {
   "cell_type": "code",
   "execution_count": 14,
   "id": "preceding-frequency",
   "metadata": {},
   "outputs": [
    {
     "data": {
      "text/plain": [
       "array([[-3.171, -0.733, -1.85 , -0.577, -3.052, -3.725, -0.494, -1.203,\n",
       "        -2.993, -3.966],\n",
       "       [ 6.901,  6.248, 10.19 ,  8.386,  2.65 ,  0.85 ,  5.12 ,  4.305,\n",
       "         6.447,  6.449],\n",
       "       [ 0.877, -1.542, -1.198, -2.454, -2.954, -3.77 , -6.254, -7.039,\n",
       "        -7.511, -7.291]])"
      ]
     },
     "execution_count": 14,
     "metadata": {},
     "output_type": "execute_result"
    }
   ],
   "source": [
    "np.array([[0.228, -0.973, -0.036], [0.168, 0.002, 0.985], [-0.974,0.220, 0.031]])@np.array([[0,2,2,3,4,5,7,8,9,9],[3,1,2,1,4,5,2,3,5,6],[7,6,10,8,2,0,4,3,5,5]]) "
   ]
  },
  {
   "cell_type": "code",
   "execution_count": 15,
   "id": "focused-collins",
   "metadata": {},
   "outputs": [
    {
     "data": {
      "text/plain": [
       "array([[-6.391, -7.424, -4.698, -7.725, -8.77 , -5.515, -5.767, -6.32 ,\n",
       "        -7.666, -6.585],\n",
       "       [ 1.335,  9.385,  0.852,  3.813,  5.785,  2.992,  9.887, 11.21 ,\n",
       "         7.61 ,  4.653],\n",
       "       [-0.377, -0.883, -3.55 , -2.797, -2.515, -4.242, -4.025, -5.722,\n",
       "        -7.354, -7.667]])"
      ]
     },
     "execution_count": 15,
     "metadata": {},
     "output_type": "execute_result"
    }
   ],
   "source": [
    "np.array([[0.228, -0.973, -0.036], [0.168, 0.002, 0.985], [-0.974,0.220, 0.031]])@np.array([[2,3,5,5,5,6,6,8,10,10],[7,8,6,9,10,7,7,8,10,9],[1,9,0,3,5,2,9,10,6,3]]) "
   ]
  },
  {
   "cell_type": "code",
   "execution_count": null,
   "id": "cardiac-review",
   "metadata": {},
   "outputs": [],
   "source": [
    "■(@@)"
   ]
  }
 ],
 "metadata": {
  "kernelspec": {
   "display_name": "Python 3",
   "language": "python",
   "name": "python3"
  },
  "language_info": {
   "codemirror_mode": {
    "name": "ipython",
    "version": 3
   },
   "file_extension": ".py",
   "mimetype": "text/x-python",
   "name": "python",
   "nbconvert_exporter": "python",
   "pygments_lexer": "ipython3",
   "version": "3.9.1"
  }
 },
 "nbformat": 4,
 "nbformat_minor": 5
}
